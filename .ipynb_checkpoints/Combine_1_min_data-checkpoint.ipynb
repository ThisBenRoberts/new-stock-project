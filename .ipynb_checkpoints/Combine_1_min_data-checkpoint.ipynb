{
 "cells": [
  {
   "cell_type": "markdown",
   "id": "bb3a7608-e7ed-4802-abaa-5d93fa906c78",
   "metadata": {},
   "source": [
    "# 01 IMPORTS"
   ]
  },
  {
   "cell_type": "code",
   "execution_count": 17,
   "id": "bd8b52cc-0876-41ca-b308-93d06a88358f",
   "metadata": {},
   "outputs": [],
   "source": [
    "import pandas as pd\n",
    "import glob\n",
    "import numpy as np\n",
    "import matplotlib.pyplot as plt\n",
    "import time\n",
    "from datetime import datetime\n",
    "\n",
    "import warnings # necessary b/c pandas & statsmodels datetime issue\n",
    "warnings.simplefilter(action=\"ignore\")"
   ]
  },
  {
   "cell_type": "markdown",
   "id": "f62f7dba-0be2-4d2d-bde5-8fe0217c6fec",
   "metadata": {},
   "source": [
    "# 02 DATA IMPORT"
   ]
  },
  {
   "cell_type": "code",
   "execution_count": 18,
   "id": "5c101c61-7782-4b92-8f5d-6a64f7be9559",
   "metadata": {},
   "outputs": [],
   "source": [
    "path = 'C:\\\\Users\\\\benro\\\\OneDrive\\\\Documents\\\\EODData\\\\DataClient\\\\CSV\\\\NASDAQ\\\\1'\n",
    "files = glob.glob(path + \"/*.csv\")\n",
    "df = pd.DataFrame()\n",
    "content = []\n"
   ]
  },
  {
   "cell_type": "code",
   "execution_count": 19,
   "id": "62fb2aea-0986-4e8a-bb3d-54054c844149",
   "metadata": {},
   "outputs": [
    {
     "name": "stdout",
     "output_type": "stream",
     "text": [
      "       Symbol               Date  Open  High   Low  Close  Volume\n",
      "0        AACG  01-Apr-2022 09:14  1.54  1.54  1.54   1.54     100\n",
      "1        AACG  01-Apr-2022 09:26  1.48  1.48  1.48   1.48     500\n",
      "2        AACG  01-Apr-2022 09:27  1.55  1.55  1.55   1.55     100\n",
      "3        AACG  01-Apr-2022 09:30  1.56  1.56  1.56   1.56     298\n",
      "4        AACG  01-Apr-2022 09:32  1.49  1.49  1.49   1.49     100\n",
      "...       ...                ...   ...   ...   ...    ...     ...\n",
      "671186   ZYXI  30-Jun-2022 15:58  7.96  7.96  7.96   7.96     200\n",
      "671187   ZYXI  30-Jun-2022 15:59  7.96  7.97  7.95   7.96    3766\n",
      "671188   ZYXI  30-Jun-2022 16:00  7.98  7.98  7.98   7.98   25607\n",
      "671189   ZYXI  30-Jun-2022 16:01  7.98  7.98  7.98   7.98    9928\n",
      "671190   ZYXI  30-Jun-2022 16:03  7.98  7.98  7.98   7.98     590\n",
      "\n",
      "[42951591 rows x 7 columns]\n"
     ]
    }
   ],
   "source": [
    "# combine data files\n",
    "for filename in files:\n",
    "    dftemp = pd.read_csv(filename, index_col=None)\n",
    "    content.append(dftemp)\n",
    "    # dftemp['FullDate'] = dftemp['Date']\n",
    "    # dftemp['Time'] = pd.to_datetime(dftemp['FullDate']).dt.strftime('%H:%M')\n",
    "    # dftemp['Date'] = pd.to_datetime(dftemp['FullDate']).dt.strftime('%m-%d-%Y')\n",
    "    \n",
    "df = pd.concat(content)   \n",
    "print(df)"
   ]
  },
  {
   "cell_type": "code",
   "execution_count": 20,
   "id": "c36332d3-f476-4cb9-a9ed-e1eb883f4bd6",
   "metadata": {},
   "outputs": [
    {
     "name": "stdout",
     "output_type": "stream",
     "text": [
      "       Symbol        Date  Open  High   Low  Close  Volume           FullDate  \\\n",
      "0        AACG  04-01-2022  1.54  1.54  1.54   1.54     100  01-Apr-2022 09:14   \n",
      "1        AACG  04-01-2022  1.48  1.48  1.48   1.48     500  01-Apr-2022 09:26   \n",
      "2        AACG  04-01-2022  1.55  1.55  1.55   1.55     100  01-Apr-2022 09:27   \n",
      "3        AACG  04-01-2022  1.56  1.56  1.56   1.56     298  01-Apr-2022 09:30   \n",
      "4        AACG  04-01-2022  1.49  1.49  1.49   1.49     100  01-Apr-2022 09:32   \n",
      "...       ...         ...   ...   ...   ...    ...     ...                ...   \n",
      "671186   ZYXI  06-30-2022  7.96  7.96  7.96   7.96     200  30-Jun-2022 15:58   \n",
      "671187   ZYXI  06-30-2022  7.96  7.97  7.95   7.96    3766  30-Jun-2022 15:59   \n",
      "671188   ZYXI  06-30-2022  7.98  7.98  7.98   7.98   25607  30-Jun-2022 16:00   \n",
      "671189   ZYXI  06-30-2022  7.98  7.98  7.98   7.98    9928  30-Jun-2022 16:01   \n",
      "671190   ZYXI  06-30-2022  7.98  7.98  7.98   7.98     590  30-Jun-2022 16:03   \n",
      "\n",
      "         Time  \n",
      "0       09:14  \n",
      "1       09:26  \n",
      "2       09:27  \n",
      "3       09:30  \n",
      "4       09:32  \n",
      "...       ...  \n",
      "671186  15:58  \n",
      "671187  15:59  \n",
      "671188  16:00  \n",
      "671189  16:01  \n",
      "671190  16:03  \n",
      "\n",
      "[42951591 rows x 9 columns]\n"
     ]
    }
   ],
   "source": [
    "# Create the Date and Time Columns\n",
    "df['FullDate'] = df['Date']\n",
    "df['Time'] = pd.to_datetime(df['FullDate']).dt.strftime('%H:%M')\n",
    "df['Date'] = pd.to_datetime(df['FullDate']).dt.strftime('%m-%d-%Y')\n",
    "print(df)\n",
    "\n",
    "# Exports the updated market data    \n",
    "df.to_csv('C:\\\\Users\\\\benro\\\\OneDrive\\\\Documents\\\\EODData\\\\Combined1MinData_042022_062022.csv')\n",
    "\n"
   ]
  },
  {
   "cell_type": "code",
   "execution_count": 24,
   "id": "e7ccd73a-4791-42eb-9638-7ce79e18d063",
   "metadata": {},
   "outputs": [
    {
     "name": "stdout",
     "output_type": "stream",
     "text": [
      "     Symbol        Date    Open    High     Low   Close  Volume  \\\n",
      "1144   AAPL  04-01-2022  173.65  173.67  173.55  173.60   18093   \n",
      "1145   AAPL  04-01-2022  173.66  173.70  173.61  173.62    9482   \n",
      "1146   AAPL  04-01-2022  173.66  173.66  173.40  173.40   20539   \n",
      "1147   AAPL  04-01-2022  173.42  173.47  173.40  173.47   14775   \n",
      "1148   AAPL  04-01-2022  173.44  173.44  173.30  173.30   18326   \n",
      "...     ...         ...     ...     ...     ...     ...     ...   \n",
      "1352   AAPL  06-30-2022  136.75  136.82  136.72  136.82    8549   \n",
      "1353   AAPL  06-30-2022  136.83  136.88  136.78  136.87    7790   \n",
      "1354   AAPL  06-30-2022  136.85  136.85  136.80  136.80     600   \n",
      "1355   AAPL  06-30-2022  136.75  136.85  136.75  136.85     566   \n",
      "1356   AAPL  06-30-2022  136.81  136.85  136.80  136.80    2100   \n",
      "\n",
      "               FullDate   Time  \n",
      "1144  01-Apr-2022 09:00  09:00  \n",
      "1145  01-Apr-2022 09:01  09:01  \n",
      "1146  01-Apr-2022 09:02  09:02  \n",
      "1147  01-Apr-2022 09:03  09:03  \n",
      "1148  01-Apr-2022 09:04  09:04  \n",
      "...                 ...    ...  \n",
      "1352  30-Jun-2022 16:37  16:37  \n",
      "1353  30-Jun-2022 16:38  16:38  \n",
      "1354  30-Jun-2022 16:39  16:39  \n",
      "1355  30-Jun-2022 16:40  16:40  \n",
      "1356  30-Jun-2022 16:41  16:41  \n",
      "\n",
      "[29423 rows x 9 columns]\n"
     ]
    }
   ],
   "source": [
    "dfaapl=df[df['Symbol'] == \"AAPL\"]\n",
    "print(dfaapl)"
   ]
  },
  {
   "cell_type": "code",
   "execution_count": 25,
   "id": "d0489a41-1240-4f9a-b1ae-784b18dd2e3c",
   "metadata": {},
   "outputs": [
    {
     "data": {
      "text/plain": [
       "min    09:00\n",
       "max    16:59\n",
       "Name: Time, dtype: object"
      ]
     },
     "execution_count": 25,
     "metadata": {},
     "output_type": "execute_result"
    }
   ],
   "source": [
    "# Stock market is open 9:30-40\n",
    "dfaapl['Time'].agg(['min', 'max'])"
   ]
  },
  {
   "cell_type": "code",
   "execution_count": 26,
   "id": "c26bce88-0b2d-485f-9a37-c590d59496a5",
   "metadata": {},
   "outputs": [],
   "source": [
    "# These times 9am to 5pm represent some before and after hours trading"
   ]
  },
  {
   "cell_type": "code",
   "execution_count": null,
   "id": "e28c4d01-4d5c-4435-a9c1-6fb1f5c2218c",
   "metadata": {},
   "outputs": [],
   "source": [
    "# Let's first try to understand what's happening in the first 10, 20, and 30 minute of open market, our 'X' period\n",
    "# For example, during the 'x' period:\n",
    "# Was ClOSE higher or lower than the OPEN\n",
    "# By how much\n",
    "# Was that consistent for each 2 minute or 5 minute bar\n",
    "# Was the OPEN higher or lower than the previous day CLOSE\n",
    "# Was the CLOSE higher or lower than the previous day CLOSE\n",
    "# Did VOLUME increase or decrease\n",
    "# Was that consistent for each 2 minute or 5 minute bar\n",
    "# Was VOLUME higher or lower than the x period yesterday\n",
    "# What the price doing compared to the RSI  \n",
    "# (https://www.wallstreetmojo.com/relative-strength-index/   \n",
    "# RSI is calculated using the formula RSI = 100 – (100 / [1 + {14-Day Average Gain / 14-Day Average Loss}]))  \n"
   ]
  }
 ],
 "metadata": {
  "kernelspec": {
   "display_name": "Python 3 (ipykernel)",
   "language": "python",
   "name": "python3"
  },
  "language_info": {
   "codemirror_mode": {
    "name": "ipython",
    "version": 3
   },
   "file_extension": ".py",
   "mimetype": "text/x-python",
   "name": "python",
   "nbconvert_exporter": "python",
   "pygments_lexer": "ipython3",
   "version": "3.9.7"
  }
 },
 "nbformat": 4,
 "nbformat_minor": 5
}
